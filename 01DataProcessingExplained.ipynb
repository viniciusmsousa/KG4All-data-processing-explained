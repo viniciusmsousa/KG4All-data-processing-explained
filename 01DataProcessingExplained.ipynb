{
 "cells": [
  {
   "cell_type": "markdown",
   "metadata": {},
   "source": [
    "# Data Processing Explained\n",
    "\n",
    "This notebook was created in order to explain the data processing of the KG4All, that is the creation of a Knowledge Graph from natural language text. \n",
    "\n",
    "The notebok contains the followinf topics:\n",
    "\n",
    "- 1 Enviroment Setup (there are both a requirements.txt and a poetry.lock files)\n",
    "- 2 The data processing using the abstracts from the [COVID-19 Open Research Dataset Challenge (CORD-19)](https://www.kaggle.com/allen-institute-for-ai/CORD-19-research-challenge)."
   ]
  },
  {
   "cell_type": "markdown",
   "metadata": {},
   "source": [
    "## 1) Enviroment Setup\n",
    "\n",
    "To setup the enviroment it is needed to install the requirements.txt or poetry.lock file as well as the following command to instal the model. Note that this should be done just once ans it takes a while the install.\n",
    "\n",
    "``` !pip install https://s3-us-west-2.amazonaws.com/ai2-s2-scispacy/releases/v0.2.4/en_core_sci_sm-0.2.4.tar.gz ```"
   ]
  },
  {
   "cell_type": "markdown",
   "metadata": {},
   "source": [
    "## 2) Data Processing\n",
    "\n",
    "In layman's terms the data processing receives natural language text as input and from the text extracts entities and related entities using the [ScispaCy Framework](https://arxiv.org/abs/1902.07669)."
   ]
  },
  {
   "cell_type": "code",
   "execution_count": 1,
   "metadata": {},
   "outputs": [
    {
     "output_type": "error",
     "ename": "KeyboardInterrupt",
     "evalue": "",
     "traceback": [
      "\u001b[1;31m---------------------------------------------------------------------------\u001b[0m",
      "\u001b[1;31mKeyboardInterrupt\u001b[0m                         Traceback (most recent call last)",
      "\u001b[1;32m<ipython-input-1-709373ae15f4>\u001b[0m in \u001b[0;36m<module>\u001b[1;34m\u001b[0m\n\u001b[0;32m      2\u001b[0m \u001b[1;32mimport\u001b[0m \u001b[0mos\u001b[0m\u001b[1;33m\u001b[0m\u001b[1;33m\u001b[0m\u001b[0m\n\u001b[0;32m      3\u001b[0m \u001b[1;32mimport\u001b[0m \u001b[0mpandas\u001b[0m \u001b[1;32mas\u001b[0m \u001b[0mpd\u001b[0m\u001b[1;33m\u001b[0m\u001b[1;33m\u001b[0m\u001b[0m\n\u001b[1;32m----> 4\u001b[1;33m \u001b[1;32mimport\u001b[0m \u001b[0mspacy\u001b[0m\u001b[1;33m\u001b[0m\u001b[1;33m\u001b[0m\u001b[0m\n\u001b[0m\u001b[0;32m      5\u001b[0m \u001b[1;32mimport\u001b[0m \u001b[0mscispacy\u001b[0m\u001b[1;33m\u001b[0m\u001b[1;33m\u001b[0m\u001b[0m\n\u001b[0;32m      6\u001b[0m \u001b[1;32mfrom\u001b[0m \u001b[0mscispacy\u001b[0m\u001b[1;33m.\u001b[0m\u001b[0mumls_linking\u001b[0m \u001b[1;32mimport\u001b[0m \u001b[0mUmlsEntityLinker\u001b[0m\u001b[1;33m\u001b[0m\u001b[1;33m\u001b[0m\u001b[0m\n",
      "\u001b[1;32md:\\Poetry\\envs\\masters-sand-box-amnn0bMm-py3.7\\lib\\site-packages\\spacy\\__init__.py\u001b[0m in \u001b[0;36m<module>\u001b[1;34m\u001b[0m\n\u001b[0;32m     10\u001b[0m \u001b[1;32mfrom\u001b[0m \u001b[0mthinc\u001b[0m\u001b[1;33m.\u001b[0m\u001b[0mneural\u001b[0m\u001b[1;33m.\u001b[0m\u001b[0mutil\u001b[0m \u001b[1;32mimport\u001b[0m \u001b[0mprefer_gpu\u001b[0m\u001b[1;33m,\u001b[0m \u001b[0mrequire_gpu\u001b[0m\u001b[1;33m\u001b[0m\u001b[1;33m\u001b[0m\u001b[0m\n\u001b[0;32m     11\u001b[0m \u001b[1;33m\u001b[0m\u001b[0m\n\u001b[1;32m---> 12\u001b[1;33m \u001b[1;32mfrom\u001b[0m \u001b[1;33m.\u001b[0m \u001b[1;32mimport\u001b[0m \u001b[0mpipeline\u001b[0m\u001b[1;33m\u001b[0m\u001b[1;33m\u001b[0m\u001b[0m\n\u001b[0m\u001b[0;32m     13\u001b[0m \u001b[1;32mfrom\u001b[0m \u001b[1;33m.\u001b[0m\u001b[0mcli\u001b[0m\u001b[1;33m.\u001b[0m\u001b[0minfo\u001b[0m \u001b[1;32mimport\u001b[0m \u001b[0minfo\u001b[0m \u001b[1;32mas\u001b[0m \u001b[0mcli_info\u001b[0m\u001b[1;33m\u001b[0m\u001b[1;33m\u001b[0m\u001b[0m\n\u001b[0;32m     14\u001b[0m \u001b[1;32mfrom\u001b[0m \u001b[1;33m.\u001b[0m\u001b[0mglossary\u001b[0m \u001b[1;32mimport\u001b[0m \u001b[0mexplain\u001b[0m\u001b[1;33m\u001b[0m\u001b[1;33m\u001b[0m\u001b[0m\n",
      "\u001b[1;32md:\\Poetry\\envs\\masters-sand-box-amnn0bMm-py3.7\\lib\\site-packages\\spacy\\pipeline\\__init__.py\u001b[0m in \u001b[0;36m<module>\u001b[1;34m\u001b[0m\n\u001b[0;32m      2\u001b[0m \u001b[1;32mfrom\u001b[0m \u001b[0m__future__\u001b[0m \u001b[1;32mimport\u001b[0m \u001b[0municode_literals\u001b[0m\u001b[1;33m\u001b[0m\u001b[1;33m\u001b[0m\u001b[0m\n\u001b[0;32m      3\u001b[0m \u001b[1;33m\u001b[0m\u001b[0m\n\u001b[1;32m----> 4\u001b[1;33m \u001b[1;32mfrom\u001b[0m \u001b[1;33m.\u001b[0m\u001b[0mpipes\u001b[0m \u001b[1;32mimport\u001b[0m \u001b[0mTagger\u001b[0m\u001b[1;33m,\u001b[0m \u001b[0mDependencyParser\u001b[0m\u001b[1;33m,\u001b[0m \u001b[0mEntityRecognizer\u001b[0m\u001b[1;33m,\u001b[0m \u001b[0mEntityLinker\u001b[0m\u001b[1;33m\u001b[0m\u001b[1;33m\u001b[0m\u001b[0m\n\u001b[0m\u001b[0;32m      5\u001b[0m \u001b[1;32mfrom\u001b[0m \u001b[1;33m.\u001b[0m\u001b[0mpipes\u001b[0m \u001b[1;32mimport\u001b[0m \u001b[0mTextCategorizer\u001b[0m\u001b[1;33m,\u001b[0m \u001b[0mTensorizer\u001b[0m\u001b[1;33m,\u001b[0m \u001b[0mPipe\u001b[0m\u001b[1;33m,\u001b[0m \u001b[0mSentencizer\u001b[0m\u001b[1;33m\u001b[0m\u001b[1;33m\u001b[0m\u001b[0m\n\u001b[0;32m      6\u001b[0m \u001b[1;32mfrom\u001b[0m \u001b[1;33m.\u001b[0m\u001b[0mmorphologizer\u001b[0m \u001b[1;32mimport\u001b[0m \u001b[0mMorphologizer\u001b[0m\u001b[1;33m\u001b[0m\u001b[1;33m\u001b[0m\u001b[0m\n",
      "\u001b[1;32mpipes.pyx\u001b[0m in \u001b[0;36minit spacy.pipeline.pipes\u001b[1;34m()\u001b[0m\n",
      "\u001b[1;32mnn_parser.pyx\u001b[0m in \u001b[0;36minit spacy.syntax.nn_parser\u001b[1;34m()\u001b[0m\n",
      "\u001b[1;32m~\\AppData\\Local\\Programs\\Python\\Python37\\lib\\importlib\\_bootstrap.py\u001b[0m in \u001b[0;36mparent\u001b[1;34m(self)\u001b[0m\n",
      "\u001b[1;31mKeyboardInterrupt\u001b[0m: "
     ]
    }
   ],
   "source": [
    "# Importing the libs and configuration the log file\n",
    "import os\n",
    "import pandas as pd\n",
    "import spacy\n",
    "import scispacy\n",
    "from scispacy.umls_linking import UmlsEntityLinker\n",
    "\n",
    "from loguru import logger\n",
    "logger.add(\"create_triplets_df.log\", rotation=\"50 MB\") "
   ]
  },
  {
   "cell_type": "code",
   "execution_count": null,
   "metadata": {},
   "outputs": [],
   "source": [
    "## Defining the scispacy class\n",
    "\n",
    "# Load entity extractor UMLS Model\n",
    "nlp = spacy.load(\"en_core_sci_sm\")\n",
    "\n",
    "# Load entity Linker\n",
    "linker = UmlsEntityLinker(resolve_abbreviations=True,max_entities_per_mention=3)\n",
    "\n",
    "# Merging Entity Extractor and Entity Linker\n",
    "nlp.add_pipe(linker)"
   ]
  },
  {
   "cell_type": "code",
   "execution_count": 3,
   "metadata": {
    "tags": []
   },
   "outputs": [
    {
     "output_type": "stream",
     "name": "stdout",
     "text": "(81354, 2)\n"
    },
    {
     "output_type": "execute_result",
     "data": {
      "text/plain": "                                        sha  \\\n0  d1aafb70c066a2068b02786f8929fd9c900897fb   \n1  6b0567729c2143a66d737eb0a2f63f2dce2e5a7d   \n2  06ced00a5fc04215949aa72528f2eeaae1d58927   \n3  348055649b6b8cf2b9a376498df9bf41f7123605   \n4  5f48792a5fa08bed9f56016f4981ae2ca6031b32   \n\n                                            abstract  \n0  OBJECTIVE: This retrospective chart review des...  \n1  Inflammatory diseases of the respiratory tract...  \n2  Surfactant protein-D (SP-D) participates in th...  \n3  Endothelin-1 (ET-1) is a 21 amino acid peptide...  \n4  Respiratory syncytial virus (RSV) and pneumoni...  ",
      "text/html": "<div>\n<style scoped>\n    .dataframe tbody tr th:only-of-type {\n        vertical-align: middle;\n    }\n\n    .dataframe tbody tr th {\n        vertical-align: top;\n    }\n\n    .dataframe thead th {\n        text-align: right;\n    }\n</style>\n<table border=\"1\" class=\"dataframe\">\n  <thead>\n    <tr style=\"text-align: right;\">\n      <th></th>\n      <th>sha</th>\n      <th>abstract</th>\n    </tr>\n  </thead>\n  <tbody>\n    <tr>\n      <th>0</th>\n      <td>d1aafb70c066a2068b02786f8929fd9c900897fb</td>\n      <td>OBJECTIVE: This retrospective chart review des...</td>\n    </tr>\n    <tr>\n      <th>1</th>\n      <td>6b0567729c2143a66d737eb0a2f63f2dce2e5a7d</td>\n      <td>Inflammatory diseases of the respiratory tract...</td>\n    </tr>\n    <tr>\n      <th>2</th>\n      <td>06ced00a5fc04215949aa72528f2eeaae1d58927</td>\n      <td>Surfactant protein-D (SP-D) participates in th...</td>\n    </tr>\n    <tr>\n      <th>3</th>\n      <td>348055649b6b8cf2b9a376498df9bf41f7123605</td>\n      <td>Endothelin-1 (ET-1) is a 21 amino acid peptide...</td>\n    </tr>\n    <tr>\n      <th>4</th>\n      <td>5f48792a5fa08bed9f56016f4981ae2ca6031b32</td>\n      <td>Respiratory syncytial virus (RSV) and pneumoni...</td>\n    </tr>\n  </tbody>\n</table>\n</div>"
     },
     "metadata": {},
     "execution_count": 3
    }
   ],
   "source": [
    "# Loading the COVID-19 Open Research Dataset Challenge (CORD-19) abstracts dataset. YOU SHOULD DOWNLOAD THE metadata.csv FILE ANS SAVE IT IN THE SAME FOLDER AS THIS NOTEBOOK.\n",
    "\n",
    "df_abstracts = pd.read_csv(\"metadata.csv\").dropna(subset=['sha','abstract']).filter(['sha','abstract'])\n",
    "print(df_abstracts.shape)\n",
    "df_abstracts.head()"
   ]
  },
  {
   "cell_type": "code",
   "execution_count": 4,
   "metadata": {},
   "outputs": [],
   "source": [
    "# function definitions\n",
    "\n",
    "def get_text_entities(sha,text):\n",
    "    \"\"\"Extracts the UMLS entities from a text.\n",
    "\n",
    "    Args:\n",
    "        sha (str): Document id.\n",
    "        text (str): Natural Language text. \n",
    "\n",
    "    Returns:\n",
    "        Dict: Document id ans extracted entities.\n",
    "    \"\"\"\n",
    "    try:\n",
    "        output={\n",
    "            'sha':sha,\n",
    "            'ents':[*nlp(text).ents]\n",
    "        }\n",
    "        return output \n",
    "    except Exception as e:\n",
    "        logger.error(f'Erro na funcao get_text_entities(): {e}')\n",
    "\n",
    "def get_ent_info_from_cui(cui):\n",
    "    \"\"\"Parser a bunch of information about the entity given its cui.\n",
    "\n",
    "    Args:\n",
    "        cui (str): entity cui as str.\n",
    "\n",
    "    Returns:\n",
    "        Dict: Information about the entity of a goven cui.\n",
    "    \"\"\"\n",
    "    try:\n",
    "        entity = linker.umls.cui_to_entity[cui]\n",
    "        name = entity[1]\n",
    "        alias = entity[2]\n",
    "        tui = entity[3]\n",
    "        semantic_descrition = entity[4]\n",
    "        \n",
    "        entity_json = {\n",
    "            'cui':cui,\n",
    "            'name':name,\n",
    "            'semantic_descrition':semantic_descrition\n",
    "        }\n",
    "        # In case entity is represented in by more than one tui\n",
    "        if len(tui) > 1:\n",
    "            entity_json['tui'] = [tui_i in tui]\n",
    "        else:\n",
    "            entity_json['tui'] = ','.join(tui)\n",
    "        return entity_json\n",
    "    except Exception as e:\n",
    "        logger.error(f'Erro na funcao get_ent_info_from_cui(): {e}')\n",
    "\n",
    "def create_head_json(sha,ent):\n",
    "    \"\"\"Creates a json for a head entiti extracted from a text.\n",
    "\n",
    "    Args:\n",
    "        sha (str): document id.\n",
    "        ent (scispacy ent): Anentity object from the scispacy package.\n",
    "\n",
    "    Returns:\n",
    "        Dict: Head entity information.\n",
    "    \"\"\"\n",
    "    try:\n",
    "        head_cui = linker.umls.cui_to_entity[ent._.umls_ents[0][0]][0]\n",
    "        related_cui = [*map(lambda tuple_related:tuple_related[0],ent._.umls_ents)]\n",
    "        head_info_json = get_ent_info_from_cui(head_cui)\n",
    "        head_info_json['related_cui'] = related_cui\n",
    "        head_info_json['sha']=sha\n",
    "        return head_info_json\n",
    "    except Exception as e:\n",
    "        logger.error(f'Erro na funcao create_head_json(): {e}')\n",
    "\n",
    "def create_relation_df(head_entity):\n",
    "    \"\"\"Given a head entity it creates the the relations df.\n",
    "\n",
    "    Args:\n",
    "        head_entity (Dict): result from the create_head_json function.\n",
    "\n",
    "    Returns:\n",
    "        pd.DataFrame: Data Frame with the relations\n",
    "    \"\"\"\n",
    "    try:\n",
    "        relations = []\n",
    "        for linked_cui in head_entity['related_cui']:\n",
    "            try:\n",
    "                linked_cui_info = get_ent_info_from_cui(linked_cui)\n",
    "                tail_tui = linked_cui_info['tui']\n",
    "                relation = {\n",
    "                        'head_sha':head_entity['sha'],\n",
    "                        'head_cui':head_entity['cui'],\n",
    "                        'head_name':head_entity['name'],\n",
    "                        'head_tui':head_entity['tui'],\n",
    "                        'head_semantic_descrition':head_entity['semantic_descrition'],\n",
    "                        'tail_cui':linked_cui_info['cui'],\n",
    "                        'tail_name':linked_cui_info['name'],\n",
    "                        'tail_semantic_descrition':linked_cui_info['semantic_descrition']\n",
    "                    }\n",
    "                if type(tail_tui) != str:\n",
    "                    relation['tail_tui'] = [*map(lambda x:x, tail_tui)]\n",
    "                else:\n",
    "                    relation['tail_tui'] = tail_tui\n",
    "                relations.append(relation)\n",
    "            except:\n",
    "                continue\n",
    "        return pd.DataFrame.from_dict(relations)\n",
    "    except Exception as e:\n",
    "        logger.error(f'Error na funfa create_relation_df(): {e}')"
   ]
  },
  {
   "cell_type": "code",
   "execution_count": 1,
   "metadata": {
    "tags": []
   },
   "outputs": [
    {
     "output_type": "error",
     "ename": "NameError",
     "evalue": "name 'df_abstracts' is not defined",
     "traceback": [
      "\u001b[1;31m---------------------------------------------------------------------------\u001b[0m",
      "\u001b[1;31mNameError\u001b[0m                                 Traceback (most recent call last)",
      "\u001b[1;32m<ipython-input-1-a94eb9669a91>\u001b[0m in \u001b[0;36m<module>\u001b[1;34m\u001b[0m\n\u001b[1;32m----> 1\u001b[1;33m \u001b[0mn_abstracts\u001b[0m\u001b[1;33m=\u001b[0m\u001b[0mlen\u001b[0m\u001b[1;33m(\u001b[0m\u001b[0mdf_abstracts\u001b[0m\u001b[1;33m)\u001b[0m\u001b[1;33m\u001b[0m\u001b[1;33m\u001b[0m\u001b[0m\n\u001b[0m\u001b[0;32m      2\u001b[0m \u001b[0mtriplets_file\u001b[0m\u001b[1;33m=\u001b[0m\u001b[1;34m'2020-09-21-triplets.csv'\u001b[0m\u001b[1;33m\u001b[0m\u001b[1;33m\u001b[0m\u001b[0m\n\u001b[0;32m      3\u001b[0m \u001b[1;32mfor\u001b[0m \u001b[0mindex\u001b[0m\u001b[1;33m,\u001b[0m\u001b[0mrow\u001b[0m \u001b[1;32min\u001b[0m \u001b[0mdf_abstracts\u001b[0m\u001b[1;33m.\u001b[0m\u001b[0miterrows\u001b[0m\u001b[1;33m(\u001b[0m\u001b[1;33m)\u001b[0m\u001b[1;33m:\u001b[0m\u001b[1;33m\u001b[0m\u001b[1;33m\u001b[0m\u001b[0m\n\u001b[0;32m      4\u001b[0m     \u001b[1;32mtry\u001b[0m\u001b[1;33m:\u001b[0m\u001b[1;33m\u001b[0m\u001b[1;33m\u001b[0m\u001b[0m\n\u001b[0;32m      5\u001b[0m         \u001b[0mlogger\u001b[0m\u001b[1;33m.\u001b[0m\u001b[0mdebug\u001b[0m\u001b[1;33m(\u001b[0m\u001b[1;34mf'index: {index}'\u001b[0m\u001b[1;33m)\u001b[0m\u001b[1;33m\u001b[0m\u001b[1;33m\u001b[0m\u001b[0m\n",
      "\u001b[1;31mNameError\u001b[0m: name 'df_abstracts' is not defined"
     ]
    }
   ],
   "source": [
    "# create the triplets dataframe\n",
    "\n",
    "n_abstracts=len(df_abstracts)\n",
    "triplets_file='2020-09-21-triplets.csv'\n",
    "for index,row in df_abstracts.iterrows():\n",
    "    try:\n",
    "        logger.debug(f'index: {index}')\n",
    "        sha=row['sha'][-40:],\n",
    "        text=row['abstract']\n",
    "        text_entities=get_text_entities(sha=sha,text=text)\n",
    "        head_entities = create_head_json(sha=text_entities['sha'],ent=text_entities['ents'][0])\n",
    "        df_relations = create_relation_df(head_entities)\n",
    "        # if file does not exist write header \n",
    "        if not os.path.isfile(triplets_file):\n",
    "            df_relations.to_csv(triplets_file, header='column_names',sep='|')\n",
    "        else: # else it exists so append without writing the header\n",
    "            df_relations.to_csv(triplets_file, mode='a', header=False,sep='|')\n",
    "    except Exception as e:\n",
    "        logger.error(f\"Error: {e}\")"
   ]
  },
  {
   "cell_type": "code",
   "execution_count": null,
   "metadata": {},
   "outputs": [],
   "source": []
  }
 ],
 "metadata": {
  "language_info": {
   "codemirror_mode": {
    "name": "ipython",
    "version": 3
   },
   "file_extension": ".py",
   "mimetype": "text/x-python",
   "name": "python",
   "nbconvert_exporter": "python",
   "pygments_lexer": "ipython3",
   "version": "3.7.8-final"
  },
  "orig_nbformat": 2,
  "kernelspec": {
   "name": "python37864bitmasterssandboxamnn0bmmpy37venv065205e102844f6899e3bc8e6a840507",
   "display_name": "Python 3.7.8 64-bit ('masters-sand-box-amnn0bMm-py3.7': venv)"
  }
 },
 "nbformat": 4,
 "nbformat_minor": 2
}